{
 "cells": [
  {
   "cell_type": "markdown",
   "metadata": {},
   "source": [
    "# Using Meta as a Library\n",
    "In this notebook we show how to use Meta as a library for connecting and displaying results from the SOLR tool interactively using the jupyter notebook front end."
   ]
  },
  {
   "cell_type": "code",
   "execution_count": 1,
   "metadata": {
    "collapsed": true
   },
   "outputs": [],
   "source": [
    "import os, sys\n",
    "sys.path.append('..') # since meta is one directory up\n",
    "from meta.app import app # essential for avoiding recursive dependenciesfrom meta import query\n",
    "from meta.query import DEFAULT_PAYLOAD, query_body\n",
    "from meta.solr import solr_url\n",
    "from meta.paging import calc\n",
    "from meta.facets import prepare_facets\n",
    "from meta.grouping import group\n",
    "import json, requests\n",
    "import pandas as pd\n",
    "#solr_url = lambda : 'http://ec2-52-212-187-178.eu-west-1.compute.amazonaws.com:8983/solr/grouping/query'"
   ]
  },
  {
   "cell_type": "code",
   "execution_count": 2,
   "metadata": {
    "collapsed": false
   },
   "outputs": [],
   "source": [
    "# make a simple query\n",
    "params = DEFAULT_PAYLOAD\n",
    "params['limit'] = 2000\n",
    "payload = query_body(params)\n",
    "headers = {'content-type': \"application/json\"}\n",
    "response = requests.get(solr_url(app.config), data=json.dumps(payload), headers=headers)\n",
    "data = response.json()\n",
    "docs = data['grouped']['PatientID']\n",
    "docs = group(docs)\n",
    "facets = prepare_facets(data.get('facets', []), '')\n",
    "results = data['grouped']['PatientID']['ngroups']\n",
    "paging = calc(results, params.get('offset', '0'))"
   ]
  },
  {
   "cell_type": "markdown",
   "metadata": {},
   "source": [
    "# Patients\n",
    "Show the patients in the results"
   ]
  },
  {
   "cell_type": "code",
   "execution_count": 3,
   "metadata": {
    "collapsed": false
   },
   "outputs": [
    {
     "data": {
      "text/html": [
       "<div>\n",
       "<table border=\"1\" class=\"dataframe\">\n",
       "  <thead>\n",
       "    <tr style=\"text-align: right;\">\n",
       "      <th></th>\n",
       "      <th>birthdate</th>\n",
       "      <th>name</th>\n",
       "    </tr>\n",
       "  </thead>\n",
       "  <tbody>\n",
       "    <tr>\n",
       "      <th>59</th>\n",
       "      <td>11.02.1951</td>\n",
       "      <td>Thomas Q. Nizza</td>\n",
       "    </tr>\n",
       "    <tr>\n",
       "      <th>55</th>\n",
       "      <td>05.04.1952</td>\n",
       "      <td>Joshy O. Munich</td>\n",
       "    </tr>\n",
       "    <tr>\n",
       "      <th>36</th>\n",
       "      <td>17.10.1972</td>\n",
       "      <td>Bram S. Konstanz</td>\n",
       "    </tr>\n",
       "    <tr>\n",
       "      <th>47</th>\n",
       "      <td>21.11.1965</td>\n",
       "      <td>Joachim T. Munich</td>\n",
       "    </tr>\n",
       "    <tr>\n",
       "      <th>41</th>\n",
       "      <td>06.12.1975</td>\n",
       "      <td>Joshy D. Nizza</td>\n",
       "    </tr>\n",
       "  </tbody>\n",
       "</table>\n",
       "</div>"
      ],
      "text/plain": [
       "     birthdate               name\n",
       "59  11.02.1951    Thomas Q. Nizza\n",
       "55  05.04.1952    Joshy O. Munich\n",
       "36  17.10.1972   Bram S. Konstanz\n",
       "47  21.11.1965  Joachim T. Munich\n",
       "41  06.12.1975     Joshy D. Nizza"
      ]
     },
     "execution_count": 3,
     "metadata": {},
     "output_type": "execute_result"
    }
   ],
   "source": [
    "pd.DataFrame([cgroup['patient'] for cgroup in docs['groups']]).sample(5)"
   ]
  },
  {
   "cell_type": "markdown",
   "metadata": {},
   "source": [
    "# Show all of the Accession Number\n",
    "Show the results by the accession number"
   ]
  },
  {
   "cell_type": "code",
   "execution_count": 4,
   "metadata": {
    "collapsed": false
   },
   "outputs": [
    {
     "data": {
      "text/html": [
       "<div>\n",
       "<table border=\"1\" class=\"dataframe\">\n",
       "  <thead>\n",
       "    <tr style=\"text-align: right;\">\n",
       "      <th></th>\n",
       "      <th>AccessionNumber</th>\n",
       "      <th>BodyPartExamined</th>\n",
       "      <th>InstanceAvailability</th>\n",
       "      <th>InstanceNumber</th>\n",
       "      <th>InstitutionName</th>\n",
       "      <th>Modality</th>\n",
       "      <th>PatientBirthDate</th>\n",
       "      <th>PatientID</th>\n",
       "      <th>PatientName</th>\n",
       "      <th>PatientSex</th>\n",
       "      <th>...</th>\n",
       "      <th>SeriesDescription</th>\n",
       "      <th>SeriesInstanceUID</th>\n",
       "      <th>SeriesNumber</th>\n",
       "      <th>StudyDate</th>\n",
       "      <th>StudyDescription</th>\n",
       "      <th>StudyID</th>\n",
       "      <th>StudyInstanceUID</th>\n",
       "      <th>StudyTime</th>\n",
       "      <th>_version_</th>\n",
       "      <th>id</th>\n",
       "    </tr>\n",
       "  </thead>\n",
       "  <tbody>\n",
       "    <tr>\n",
       "      <th>26</th>\n",
       "      <td>ZH140328MR3052</td>\n",
       "      <td>Missing</td>\n",
       "      <td>Missing</td>\n",
       "      <td>[225]</td>\n",
       "      <td>Wankdorf Pathology Center</td>\n",
       "      <td>MR</td>\n",
       "      <td>19440411</td>\n",
       "      <td>10199527</td>\n",
       "      <td>Joachim P. Konstanz</td>\n",
       "      <td>M</td>\n",
       "      <td>...</td>\n",
       "      <td>t1_mpr_sag_p2_iso_256_1x1x1</td>\n",
       "      <td>1.3.12.2.1107.5.2.32.35424.2014032818452939456...</td>\n",
       "      <td>5</td>\n",
       "      <td>20140328</td>\n",
       "      <td>NaN</td>\n",
       "      <td>653499</td>\n",
       "      <td>1.2.840.113619.186.35125912074.201403281548178...</td>\n",
       "      <td>[183929.796]</td>\n",
       "      <td>1557074467299000323</td>\n",
       "      <td>20</td>\n",
       "    </tr>\n",
       "    <tr>\n",
       "      <th>29</th>\n",
       "      <td>ME140221MR3012</td>\n",
       "      <td>Missing</td>\n",
       "      <td>Missing</td>\n",
       "      <td>[26]</td>\n",
       "      <td>Wankdorf Pathology Center</td>\n",
       "      <td>MR</td>\n",
       "      <td>19620122</td>\n",
       "      <td>10195082</td>\n",
       "      <td>Bram J. Konstanz</td>\n",
       "      <td>M</td>\n",
       "      <td>...</td>\n",
       "      <td>t1_tse_tra_384</td>\n",
       "      <td>1.3.12.2.1107.5.2.32.35424.2014022111111886259...</td>\n",
       "      <td>3</td>\n",
       "      <td>20140221</td>\n",
       "      <td>NaN</td>\n",
       "      <td>636345</td>\n",
       "      <td>1.2.840.113619.186.35125912074.201402210923372...</td>\n",
       "      <td>[110656.75]</td>\n",
       "      <td>1557074467300048896</td>\n",
       "      <td>22</td>\n",
       "    </tr>\n",
       "    <tr>\n",
       "      <th>84</th>\n",
       "      <td>ME140506MR3028</td>\n",
       "      <td>Missing</td>\n",
       "      <td>Missing</td>\n",
       "      <td>[9]</td>\n",
       "      <td>Wankdorf Pathology Center</td>\n",
       "      <td>MR</td>\n",
       "      <td>19910610</td>\n",
       "      <td>10205057</td>\n",
       "      <td>Kevin O. Bari</td>\n",
       "      <td>M</td>\n",
       "      <td>...</td>\n",
       "      <td>ep2d_diff_3scan_trace_p2</td>\n",
       "      <td>1.3.12.2.1107.5.2.32.35424.2014050612494926443...</td>\n",
       "      <td>8</td>\n",
       "      <td>20140506</td>\n",
       "      <td>NaN</td>\n",
       "      <td>670801</td>\n",
       "      <td>1.2.840.113619.186.35125912074.201405060922273...</td>\n",
       "      <td>[123326.859]</td>\n",
       "      <td>1557074467308437505</td>\n",
       "      <td>76</td>\n",
       "    </tr>\n",
       "    <tr>\n",
       "      <th>66</th>\n",
       "      <td>ME141011MR3001</td>\n",
       "      <td>Missing</td>\n",
       "      <td>Missing</td>\n",
       "      <td>[142]</td>\n",
       "      <td>Wankdorf Pathology Center</td>\n",
       "      <td>MR</td>\n",
       "      <td>19651121</td>\n",
       "      <td>10223038</td>\n",
       "      <td>Joachim T. Munich</td>\n",
       "      <td>M</td>\n",
       "      <td>...</td>\n",
       "      <td>ep2d_diff_3scan_trace_8B_value</td>\n",
       "      <td>1.3.12.2.1107.5.2.32.35424.2014101108194092499...</td>\n",
       "      <td>6</td>\n",
       "      <td>20141011</td>\n",
       "      <td>NaN</td>\n",
       "      <td>742087</td>\n",
       "      <td>1.2.840.113619.186.35125912074.201410110719390...</td>\n",
       "      <td>[80801.593]</td>\n",
       "      <td>1557074467310534656</td>\n",
       "      <td>91</td>\n",
       "    </tr>\n",
       "    <tr>\n",
       "      <th>71</th>\n",
       "      <td>ME141127MR3022</td>\n",
       "      <td>Missing</td>\n",
       "      <td>Missing</td>\n",
       "      <td>[10]</td>\n",
       "      <td>Wankdorf Pathology Center</td>\n",
       "      <td>MR</td>\n",
       "      <td>19990730</td>\n",
       "      <td>10231790</td>\n",
       "      <td>Joachim P. Bari</td>\n",
       "      <td>M</td>\n",
       "      <td>...</td>\n",
       "      <td>t1_tse_cor-384</td>\n",
       "      <td>1.3.12.2.1107.5.2.32.35424.2014112712362673689...</td>\n",
       "      <td>5</td>\n",
       "      <td>20141127</td>\n",
       "      <td>NaN</td>\n",
       "      <td>768981</td>\n",
       "      <td>1.2.840.113619.186.35125912074.201411270916472...</td>\n",
       "      <td>[122709.0]</td>\n",
       "      <td>1557074467309486086</td>\n",
       "      <td>90</td>\n",
       "    </tr>\n",
       "  </tbody>\n",
       "</table>\n",
       "<p>5 rows × 21 columns</p>\n",
       "</div>"
      ],
      "text/plain": [
       "   AccessionNumber BodyPartExamined InstanceAvailability InstanceNumber  \\\n",
       "26  ZH140328MR3052          Missing              Missing          [225]   \n",
       "29  ME140221MR3012          Missing              Missing           [26]   \n",
       "84  ME140506MR3028          Missing              Missing            [9]   \n",
       "66  ME141011MR3001          Missing              Missing          [142]   \n",
       "71  ME141127MR3022          Missing              Missing           [10]   \n",
       "\n",
       "              InstitutionName Modality  PatientBirthDate PatientID  \\\n",
       "26  Wankdorf Pathology Center       MR          19440411  10199527   \n",
       "29  Wankdorf Pathology Center       MR          19620122  10195082   \n",
       "84  Wankdorf Pathology Center       MR          19910610  10205057   \n",
       "66  Wankdorf Pathology Center       MR          19651121  10223038   \n",
       "71  Wankdorf Pathology Center       MR          19990730  10231790   \n",
       "\n",
       "            PatientName PatientSex ...               SeriesDescription  \\\n",
       "26  Joachim P. Konstanz          M ...     t1_mpr_sag_p2_iso_256_1x1x1   \n",
       "29     Bram J. Konstanz          M ...                  t1_tse_tra_384   \n",
       "84        Kevin O. Bari          M ...        ep2d_diff_3scan_trace_p2   \n",
       "66    Joachim T. Munich          M ...  ep2d_diff_3scan_trace_8B_value   \n",
       "71      Joachim P. Bari          M ...                  t1_tse_cor-384   \n",
       "\n",
       "                                    SeriesInstanceUID SeriesNumber StudyDate  \\\n",
       "26  1.3.12.2.1107.5.2.32.35424.2014032818452939456...            5  20140328   \n",
       "29  1.3.12.2.1107.5.2.32.35424.2014022111111886259...            3  20140221   \n",
       "84  1.3.12.2.1107.5.2.32.35424.2014050612494926443...            8  20140506   \n",
       "66  1.3.12.2.1107.5.2.32.35424.2014101108194092499...            6  20141011   \n",
       "71  1.3.12.2.1107.5.2.32.35424.2014112712362673689...            5  20141127   \n",
       "\n",
       "    StudyDescription StudyID  \\\n",
       "26               NaN  653499   \n",
       "29               NaN  636345   \n",
       "84               NaN  670801   \n",
       "66               NaN  742087   \n",
       "71               NaN  768981   \n",
       "\n",
       "                                     StudyInstanceUID     StudyTime  \\\n",
       "26  1.2.840.113619.186.35125912074.201403281548178...  [183929.796]   \n",
       "29  1.2.840.113619.186.35125912074.201402210923372...   [110656.75]   \n",
       "84  1.2.840.113619.186.35125912074.201405060922273...  [123326.859]   \n",
       "66  1.2.840.113619.186.35125912074.201410110719390...   [80801.593]   \n",
       "71  1.2.840.113619.186.35125912074.201411270916472...    [122709.0]   \n",
       "\n",
       "              _version_  id  \n",
       "26  1557074467299000323  20  \n",
       "29  1557074467300048896  22  \n",
       "84  1557074467308437505  76  \n",
       "66  1557074467310534656  91  \n",
       "71  1557074467309486086  90  \n",
       "\n",
       "[5 rows x 21 columns]"
      ]
     },
     "execution_count": 4,
     "metadata": {},
     "output_type": "execute_result"
    }
   ],
   "source": [
    "from itertools import chain\n",
    "all_asn_data = pd.DataFrame(list(chain(*[list(cgroup['by_AccessionNumber'].values())[0] for cgroup in docs['groups']])))\n",
    "all_asn_data.sample(5)"
   ]
  },
  {
   "cell_type": "markdown",
   "metadata": {},
   "source": [
    "# Simple Graphics\n",
    "Here we can show a few simple plots based on the underlying data in _SOLR_ "
   ]
  },
  {
   "cell_type": "code",
   "execution_count": 5,
   "metadata": {
    "collapsed": true
   },
   "outputs": [
    {
     "name": "stderr",
     "output_type": "stream",
     "text": [
      "/Users/irrwitz/anaconda/envs/snakes/lib/python3.5/site-packages/IPython/html.py:14: ShimWarning: The `IPython.html` package has been deprecated. You should import from `notebook` instead. `IPython.html.widgets` has moved to `ipywidgets`.\n",
      "  \"`IPython.html.widgets` has moved to `ipywidgets`.\", ShimWarning)\n"
     ]
    }
   ],
   "source": [
    "import matplotlib.pyplot as plt\n",
    "import seaborn\n",
    "import numpy as np"
   ]
  },
  {
   "cell_type": "code",
   "execution_count": 6,
   "metadata": {
    "collapsed": false
   },
   "outputs": [
    {
     "data": {
      "image/png": "[encoded data removed]",
      "text/plain": [
       "<matplotlib.figure.Figure at 0x10f5584a8>"
      ]
     },
     "metadata": {},
     "output_type": "display_data"
    }
   ],
   "source": [
    "%matplotlib inline\n",
    "all_asn_data['BirthYear'] = all_asn_data['PatientBirthDate'].map(lambda x: int(str(x)[0:4]))\n",
    "_ = all_asn_data['BirthYear'].hist(by = all_asn_data['Modality'])"
   ]
  },
  {
   "cell_type": "code",
   "execution_count": 7,
   "metadata": {
    "collapsed": false,
    "scrolled": true
   },
   "outputs": [
    {
     "data": {
      "image/png": "[encoded data removed]",
      "text/plain": [
       "<matplotlib.figure.Figure at 0x111a35a58>"
      ]
     },
     "metadata": {},
     "output_type": "display_data"
    }
   ],
   "source": [
    "%matplotlib inline\n",
    "_ = all_asn_data['BirthYear'].hist(by = all_asn_data['PatientSex'])"
   ]
  }
 ],
 "metadata": {
  "anaconda-cloud": {},
  "kernelspec": {
   "display_name": "Python 3",
   "language": "python",
   "name": "python3"
  },
  "language_info": {
   "codemirror_mode": {
    "name": "ipython",
    "version": 3
   },
   "file_extension": ".py",
   "mimetype": "text/x-python",
   "name": "python",
   "nbconvert_exporter": "python",
   "pygments_lexer": "ipython3",
   "version": "3.5.2"
  }
 },
 "nbformat": 4,
 "nbformat_minor": 1
}
