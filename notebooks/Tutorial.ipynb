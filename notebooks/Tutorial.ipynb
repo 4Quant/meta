{
 "cells": [
  {
   "cell_type": "markdown",
   "metadata": {},
   "source": [
    "# Using Meta as a Library\n",
    "In this notebook we show how to use Meta as a library for connecting and displaying results from the SOLR tool interactively using the jupyter notebook front end."
   ]
  },
  {
   "cell_type": "code",
   "execution_count": 6,
   "metadata": {
    "collapsed": true
   },
   "outputs": [],
   "source": [
    "import os, sys\n",
    "sys.path.append('..') # since meta is one directory up\n",
    "import meta.app # essential for avoiding recursive dependencies",
    "from meta import query\n",
    "from meta.solr import solr_url\n",
    "from meta.paging import calc\n",
    "from meta.facets import prepare_facets\n",
    "from meta.grouping import group\n",
    "import json, requests\n",
    "import pandas as pd\n",
    "#solr_url = lambda : 'http://ec2-52-212-187-178.eu-west-1.compute.amazonaws.com:8983/solr/grouping/query'"
   ]
  },
  {
   "cell_type": "code",
   "execution_count": 2,
   "metadata": {
    "collapsed": false
   },
   "outputs": [],
   "source": [
    "# make a simple query\n",
    "params = query.DEFAULT_PAYLOAD\n",
    "params['limit'] = 2000\n",
    "payload = query.query_body(params)\n",
    "headers = {'content-type': \"application/json\"}\n",
    "response = requests.get(solr_url(), data=json.dumps(payload), headers=headers)\n",
    "data = response.json()\n",
    "docs = data['grouped']['PatientID']\n",
    "docs = group(docs)\n",
    "facets = prepare_facets(data.get('facets', []), '')\n",
    "results = data['grouped']['PatientID']['ngroups']\n",
    "paging = calc(results, '', params.get('offset', '1'))"
   ]
  },
  {
   "cell_type": "markdown",
   "metadata": {},
   "source": [
    "# Patients\n",
    "Show the patients in the results"
   ]
  },
  {
   "cell_type": "code",
   "execution_count": 4,
   "metadata": {
    "collapsed": false
   },
   "outputs": [
    {
     "data": {
      "text/html": [
       "<div>\n",
       "<table border=\"1\" class=\"dataframe\">\n",
       "  <thead>\n",
       "    <tr style=\"text-align: right;\">\n",
       "      <th></th>\n",
       "      <th>birthdate</th>\n",
       "      <th>name</th>\n",
       "    </tr>\n",
       "  </thead>\n",
       "  <tbody>\n",
       "    <tr>\n",
       "      <th>170</th>\n",
       "      <td>28.09.1977</td>\n",
       "      <td>Joshy C. Bari</td>\n",
       "    </tr>\n",
       "    <tr>\n",
       "      <th>87</th>\n",
       "      <td>02.03.1966</td>\n",
       "      <td>Kevin L. Bari</td>\n",
       "    </tr>\n",
       "    <tr>\n",
       "      <th>187</th>\n",
       "      <td>27.01.1957</td>\n",
       "      <td>Kevin L. Konstanz</td>\n",
       "    </tr>\n",
       "    <tr>\n",
       "      <th>30</th>\n",
       "      <td>12.01.1978</td>\n",
       "      <td>Joachim Z. Munich</td>\n",
       "    </tr>\n",
       "    <tr>\n",
       "      <th>20</th>\n",
       "      <td>05.03.1972</td>\n",
       "      <td>Bram W. Konstanz</td>\n",
       "    </tr>\n",
       "  </tbody>\n",
       "</table>\n",
       "</div>"
      ],
      "text/plain": [
       "      birthdate               name\n",
       "170  28.09.1977      Joshy C. Bari\n",
       "87   02.03.1966      Kevin L. Bari\n",
       "187  27.01.1957  Kevin L. Konstanz\n",
       "30   12.01.1978  Joachim Z. Munich\n",
       "20   05.03.1972   Bram W. Konstanz"
      ]
     },
     "execution_count": 4,
     "metadata": {},
     "output_type": "execute_result"
    }
   ],
   "source": [
    "pd.DataFrame([cgroup['patient'] for cgroup in docs['groups']]).sample(5)"
   ]
  },
  {
   "cell_type": "markdown",
   "metadata": {},
   "source": [
    "# Show all of the Accession Number\n",
    "Show the results by the accession number"
   ]
  },
  {
   "cell_type": "code",
   "execution_count": 71,
   "metadata": {
    "collapsed": false
   },
   "outputs": [
    {
     "data": {
      "text/html": [
       "<div>\n",
       "<table border=\"1\" class=\"dataframe\">\n",
       "  <thead>\n",
       "    <tr style=\"text-align: right;\">\n",
       "      <th></th>\n",
       "      <th>AccessionNumber</th>\n",
       "      <th>BodyPartExamined</th>\n",
       "      <th>InstanceAvailability</th>\n",
       "      <th>InstanceNumber</th>\n",
       "      <th>InstitutionName</th>\n",
       "      <th>Modality</th>\n",
       "      <th>PatientBirthDate</th>\n",
       "      <th>PatientID</th>\n",
       "      <th>PatientName</th>\n",
       "      <th>PatientSex</th>\n",
       "      <th>...</th>\n",
       "      <th>SeriesDescription</th>\n",
       "      <th>SeriesInstanceUID</th>\n",
       "      <th>SeriesNumber</th>\n",
       "      <th>StudyDate</th>\n",
       "      <th>StudyDescription</th>\n",
       "      <th>StudyID</th>\n",
       "      <th>StudyInstanceUID</th>\n",
       "      <th>StudyTime</th>\n",
       "      <th>_version_</th>\n",
       "      <th>id</th>\n",
       "    </tr>\n",
       "  </thead>\n",
       "  <tbody>\n",
       "    <tr>\n",
       "      <th>531</th>\n",
       "      <td>ME140326MR3055</td>\n",
       "      <td>Missing</td>\n",
       "      <td>Missing</td>\n",
       "      <td>[37]</td>\n",
       "      <td>Wankdorf Pathology Center</td>\n",
       "      <td>MR</td>\n",
       "      <td>19791127</td>\n",
       "      <td>10199300</td>\n",
       "      <td>Joachim N. Munich</td>\n",
       "      <td>M</td>\n",
       "      <td>...</td>\n",
       "      <td>ep2d_diff_3scan_trace_8B_value</td>\n",
       "      <td>1.3.12.2.1107.5.2.32.35424.2014032616542989394...</td>\n",
       "      <td>6</td>\n",
       "      <td>20140326</td>\n",
       "      <td>NaN</td>\n",
       "      <td>652138</td>\n",
       "      <td>1.2.840.113619.186.35125912074.201403261422153...</td>\n",
       "      <td>[164602.359]</td>\n",
       "      <td>1551615998305501184</td>\n",
       "      <td>64</td>\n",
       "    </tr>\n",
       "    <tr>\n",
       "      <th>1276</th>\n",
       "      <td>ME140813MR3003</td>\n",
       "      <td>Missing</td>\n",
       "      <td>Missing</td>\n",
       "      <td>[91]</td>\n",
       "      <td>Wankdorf Pathology Center</td>\n",
       "      <td>MR</td>\n",
       "      <td>19880822</td>\n",
       "      <td>10217113</td>\n",
       "      <td>Kevin J. Nizza</td>\n",
       "      <td>M</td>\n",
       "      <td>...</td>\n",
       "      <td>ep2d_diff_3scan_trace_8B_value</td>\n",
       "      <td>1.3.12.2.1107.5.2.32.35424.2014081308371327180...</td>\n",
       "      <td>6</td>\n",
       "      <td>20140813</td>\n",
       "      <td>LJ^Head&amp;NP&amp;Neck</td>\n",
       "      <td>717323</td>\n",
       "      <td>1.2.840.113619.186.35125912074.201408130714026...</td>\n",
       "      <td>[82730.046]</td>\n",
       "      <td>1551615999118147584</td>\n",
       "      <td>931</td>\n",
       "    </tr>\n",
       "    <tr>\n",
       "      <th>1291</th>\n",
       "      <td>ME140522MR3025</td>\n",
       "      <td>Missing</td>\n",
       "      <td>Missing</td>\n",
       "      <td>[4]</td>\n",
       "      <td>Wankdorf Pathology Center</td>\n",
       "      <td>MR</td>\n",
       "      <td>19551108</td>\n",
       "      <td>10207244</td>\n",
       "      <td>Thomas V. Bari</td>\n",
       "      <td>M</td>\n",
       "      <td>...</td>\n",
       "      <td>ep2d_diff_3scan_trace_8B_value</td>\n",
       "      <td>1.3.12.2.1107.5.2.32.35424.2014052214194216394...</td>\n",
       "      <td>8</td>\n",
       "      <td>20140522</td>\n",
       "      <td>NaN</td>\n",
       "      <td>679018</td>\n",
       "      <td>1.2.840.113619.186.35125912074.201405221009283...</td>\n",
       "      <td>[140510.156]</td>\n",
       "      <td>1551615998543527936</td>\n",
       "      <td>236</td>\n",
       "    </tr>\n",
       "    <tr>\n",
       "      <th>1343</th>\n",
       "      <td>ZH131031MR3024</td>\n",
       "      <td>Missing</td>\n",
       "      <td>Missing</td>\n",
       "      <td>[2]</td>\n",
       "      <td>Wankdorf Pathology Center</td>\n",
       "      <td>MR</td>\n",
       "      <td>19710101</td>\n",
       "      <td>10183125</td>\n",
       "      <td>Kevin D. Bari</td>\n",
       "      <td>M</td>\n",
       "      <td>...</td>\n",
       "      <td>t1_tse_tra_384+c</td>\n",
       "      <td>1.3.12.2.1107.5.2.32.35424.2013103115511626825...</td>\n",
       "      <td>12</td>\n",
       "      <td>20131031</td>\n",
       "      <td>Routine^2012-09</td>\n",
       "      <td>592238</td>\n",
       "      <td>1.2.840.113619.186.35125912074.201310311411443...</td>\n",
       "      <td>[152744.781]</td>\n",
       "      <td>1551615999159042051</td>\n",
       "      <td>998</td>\n",
       "    </tr>\n",
       "    <tr>\n",
       "      <th>1815</th>\n",
       "      <td>ME140724MR3011</td>\n",
       "      <td>Missing</td>\n",
       "      <td>Missing</td>\n",
       "      <td>[17]</td>\n",
       "      <td>Wankdorf Pathology Center</td>\n",
       "      <td>MR</td>\n",
       "      <td>19610824</td>\n",
       "      <td>10213993</td>\n",
       "      <td>Kevin U. Munich</td>\n",
       "      <td>M</td>\n",
       "      <td>...</td>\n",
       "      <td>t1_tse_tra_384</td>\n",
       "      <td>1.3.12.2.1107.5.2.32.35424.2014072410181351501...</td>\n",
       "      <td>3</td>\n",
       "      <td>20140724</td>\n",
       "      <td>NaN</td>\n",
       "      <td>708276</td>\n",
       "      <td>1.2.840.113619.186.35125912074.201407240825105...</td>\n",
       "      <td>[101449.812]</td>\n",
       "      <td>1551615999252365317</td>\n",
       "      <td>1176</td>\n",
       "    </tr>\n",
       "  </tbody>\n",
       "</table>\n",
       "<p>5 rows × 21 columns</p>\n",
       "</div>"
      ],
      "text/plain": [
       "     AccessionNumber BodyPartExamined InstanceAvailability InstanceNumber  \\\n",
       "531   ME140326MR3055          Missing              Missing           [37]   \n",
       "1276  ME140813MR3003          Missing              Missing           [91]   \n",
       "1291  ME140522MR3025          Missing              Missing            [4]   \n",
       "1343  ZH131031MR3024          Missing              Missing            [2]   \n",
       "1815  ME140724MR3011          Missing              Missing           [17]   \n",
       "\n",
       "                InstitutionName Modality  PatientBirthDate PatientID  \\\n",
       "531   Wankdorf Pathology Center       MR          19791127  10199300   \n",
       "1276  Wankdorf Pathology Center       MR          19880822  10217113   \n",
       "1291  Wankdorf Pathology Center       MR          19551108  10207244   \n",
       "1343  Wankdorf Pathology Center       MR          19710101  10183125   \n",
       "1815  Wankdorf Pathology Center       MR          19610824  10213993   \n",
       "\n",
       "            PatientName PatientSex  ...                SeriesDescription  \\\n",
       "531   Joachim N. Munich          M  ...   ep2d_diff_3scan_trace_8B_value   \n",
       "1276     Kevin J. Nizza          M  ...   ep2d_diff_3scan_trace_8B_value   \n",
       "1291     Thomas V. Bari          M  ...   ep2d_diff_3scan_trace_8B_value   \n",
       "1343      Kevin D. Bari          M  ...                 t1_tse_tra_384+c   \n",
       "1815    Kevin U. Munich          M  ...                   t1_tse_tra_384   \n",
       "\n",
       "                                      SeriesInstanceUID SeriesNumber  \\\n",
       "531   1.3.12.2.1107.5.2.32.35424.2014032616542989394...            6   \n",
       "1276  1.3.12.2.1107.5.2.32.35424.2014081308371327180...            6   \n",
       "1291  1.3.12.2.1107.5.2.32.35424.2014052214194216394...            8   \n",
       "1343  1.3.12.2.1107.5.2.32.35424.2013103115511626825...           12   \n",
       "1815  1.3.12.2.1107.5.2.32.35424.2014072410181351501...            3   \n",
       "\n",
       "     StudyDate  StudyDescription StudyID  \\\n",
       "531   20140326               NaN  652138   \n",
       "1276  20140813   LJ^Head&NP&Neck  717323   \n",
       "1291  20140522               NaN  679018   \n",
       "1343  20131031   Routine^2012-09  592238   \n",
       "1815  20140724               NaN  708276   \n",
       "\n",
       "                                       StudyInstanceUID     StudyTime  \\\n",
       "531   1.2.840.113619.186.35125912074.201403261422153...  [164602.359]   \n",
       "1276  1.2.840.113619.186.35125912074.201408130714026...   [82730.046]   \n",
       "1291  1.2.840.113619.186.35125912074.201405221009283...  [140510.156]   \n",
       "1343  1.2.840.113619.186.35125912074.201310311411443...  [152744.781]   \n",
       "1815  1.2.840.113619.186.35125912074.201407240825105...  [101449.812]   \n",
       "\n",
       "                _version_    id  \n",
       "531   1551615998305501184    64  \n",
       "1276  1551615999118147584   931  \n",
       "1291  1551615998543527936   236  \n",
       "1343  1551615999159042051   998  \n",
       "1815  1551615999252365317  1176  \n",
       "\n",
       "[5 rows x 21 columns]"
      ]
     },
     "execution_count": 71,
     "metadata": {},
     "output_type": "execute_result"
    }
   ],
   "source": [
    "from itertools import chain\n",
    "all_asn_data = pd.DataFrame(list(chain(*[list(cgroup['by_AccessionNumber'].values())[0] for cgroup in docs['groups']])))\n",
    "all_asn_data.sample(5)"
   ]
  },
  {
   "cell_type": "markdown",
   "metadata": {},
   "source": [
    "# Simple Graphics\n",
    "Here we can show a few simple plots based on the underlying data in _SOLR_ "
   ]
  },
  {
   "cell_type": "code",
   "execution_count": 76,
   "metadata": {
    "collapsed": true
   },
   "outputs": [],
   "source": [
    "import matplotlib.pyplot as plt\n",
    "import seaborn\n",
    "import numpy as np"
   ]
  },
  {
   "cell_type": "code",
   "execution_count": 93,
   "metadata": {
    "collapsed": false
   },
   "outputs": [
    {
     "data": {
      "image/png": "[encoded data removed]",
      "text/plain": [
       "<matplotlib.figure.Figure at 0x1201c2d30>"
      ]
     },
     "metadata": {},
     "output_type": "display_data"
    }
   ],
   "source": [
    "%matplotlib inline\n",
    "all_asn_data['BirthYear'] = all_asn_data['PatientBirthDate'].map(lambda x: int(str(x)[0:4]))\n",
    "_ = all_asn_data['BirthYear'].hist(by = all_asn_data['Modality'])"
   ]
  },
  {
   "cell_type": "code",
   "execution_count": 101,
   "metadata": {
    "collapsed": false,
    "scrolled": true
   },
   "outputs": [
    {
     "data": {
      "image/png": "[encoded data removed]",
      "text/plain": [
       "<matplotlib.figure.Figure at 0x1201d2ac8>"
      ]
     },
     "metadata": {},
     "output_type": "display_data"
    }
   ],
   "source": [
    "%matplotlib inline\n",
    "_ = all_asn_data['BirthYear'].hist(by = all_asn_data['PatientSex'])"
   ]
  }
 ],
 "metadata": {
  "anaconda-cloud": {},
  "kernelspec": {
   "display_name": "Python [Root]",
   "language": "python",
   "name": "Python [Root]"
  },
  "language_info": {
   "codemirror_mode": {
    "name": "ipython",
    "version": 3
   },
   "file_extension": ".py",
   "mimetype": "text/x-python",
   "name": "python",
   "nbconvert_exporter": "python",
   "pygments_lexer": "ipython3",
   "version": "3.5.2"
  }
 },
 "nbformat": 4,
 "nbformat_minor": 1
}
