{
 "cells": [
  {
   "cell_type": "markdown",
   "metadata": {},
   "source": [
    "# Solr setup"
   ]
  },
  {
   "cell_type": "code",
   "execution_count": 21,
   "metadata": {},
   "outputs": [],
   "source": [
    "import requests\n",
    "import glob"
   ]
  },
  {
   "cell_type": "code",
   "execution_count": 48,
   "metadata": {},
   "outputs": [],
   "source": [
    "# Main configuration options\n",
    "SOLR_URL = 'http://meqpacscrllt01.uhbs.ch:8983/solr/'\n",
    "CORE_NAME = 'grouping'\n",
    "SOLR_CORE_UPDATE_URL = SOLR_URL + CORE_NAME + '/update'\n",
    "CSV_DATA = '../import/data/*.csv'\n",
    "SCHEMA = '../import/schema/schema.json'"
   ]
  },
  {
   "cell_type": "markdown",
   "metadata": {},
   "source": [
    "## Clear core "
   ]
  },
  {
   "cell_type": "code",
   "execution_count": 17,
   "metadata": {},
   "outputs": [
    {
     "name": "stdout",
     "output_type": "stream",
     "text": [
      "http://meqpacscrllt01.uhbs.ch:8983/solr/grouping/update\n"
     ]
    },
    {
     "data": {
      "text/plain": [
       "200"
      ]
     },
     "execution_count": 17,
     "metadata": {},
     "output_type": "execute_result"
    }
   ],
   "source": [
    "data = {'commit': 'true', 'stream.body': '<delete><query>*:*</query></delete>'}\n",
    "\n",
    "r = requests.get(SOLR_CORE_UPDATE_URL, data)\n",
    "r.status_code"
   ]
  },
  {
   "cell_type": "markdown",
   "metadata": {},
   "source": [
    "## Import schema"
   ]
  },
  {
   "cell_type": "code",
   "execution_count": 30,
   "metadata": {},
   "outputs": [
    {
     "data": {
      "text/plain": [
       "200"
      ]
     },
     "execution_count": 30,
     "metadata": {},
     "output_type": "execute_result"
    }
   ],
   "source": [
    "url = SOLR_URL + CORE_NAME + '/schema'\n",
    "headers = {'Content-type': 'application/json'}\n",
    "\n",
    "files = {'file': open(SCHEMA, 'rb')}\n",
    "r = requests.post(url, headers=headers, files=files)\n",
    "r.status_code"
   ]
  },
  {
   "cell_type": "markdown",
   "metadata": {},
   "source": [
    "## Import to Solr"
   ]
  },
  {
   "cell_type": "code",
   "execution_count": 56,
   "metadata": {},
   "outputs": [
    {
     "name": "stdout",
     "output_type": "stream",
     "text": [
      "http://meqpacscrllt01.uhbs.ch:8983/solr/grouping/update/csv\n",
      "<?xml version=\"1.0\" encoding=\"UTF-8\"?>\n",
      "<response>\n",
      "<lst name=\"responseHeader\"><int name=\"status\">400</int><int name=\"QTime\">64</int></lst><lst name=\"error\"><lst name=\"metadata\"><str name=\"error-class\">org.apache.solr.common.SolrException</str><str name=\"root-error-class\">org.apache.solr.common.SolrException</str></lst><str name=\"msg\">CSVLoader: input=null, line=10,expected 1 values but got 22\n",
      "\tvalues={'AccessionNumber','BodyPartExamined','InstanceAvailability','InstitutionName','Modality','PatientBirthDate','PatientID','PatientName','PatientSex','QueryRetrieveLevel','ReferringPhysicianName','RetrieveAETitle','SeriesDate','SeriesDescription','SeriesInstanceUID','SeriesNumber','SeriesTime','SpecificCharacterSet','StudyDate','StudyDescription','StudyID','StudyInstanceUID',}</str><int name=\"code\">400</int></lst>\n",
      "</response>\n",
      "\n",
      "('../import/data/data-2016-01.csv', 400)\n"
     ]
    }
   ],
   "source": [
    "payload = {'commit': 'true', 'separator': ';'}\n",
    "headers = {'Content-type': 'application/csv;charset=UTF-8'}\n",
    "\n",
    "def post_file(file_name):\n",
    "    files = {'file': open(f, 'rb')}  \n",
    "    print(SOLR_CORE_UPDATE_URL + '/csv')\n",
    "    r = requests.post(SOLR_CORE_UPDATE_URL + '/csv', data=payload, headers=headers, files=files)\n",
    "    print(r.text)\n",
    "    print(file_name, r.status_code)\n",
    "\n",
    "for f in glob.glob(CSV_DATA):\n",
    "    post_file(f)\n",
    "    break"
   ]
  }
 ],
 "metadata": {
  "kernelspec": {
   "display_name": "Python [gl-env]",
   "language": "python",
   "name": "Python [gl-env]"
  },
  "language_info": {
   "codemirror_mode": {
    "name": "ipython",
    "version": 2
   },
   "file_extension": ".py",
   "mimetype": "text/x-python",
   "name": "python",
   "nbconvert_exporter": "python",
   "pygments_lexer": "ipython2",
   "version": "2.7.11"
  }
 },
 "nbformat": 4,
 "nbformat_minor": 1
}
