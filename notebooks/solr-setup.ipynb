{
 "cells": [
  {
   "cell_type": "markdown",
   "metadata": {},
   "source": [
    "# Solr setup"
   ]
  },
  {
   "cell_type": "code",
   "execution_count": 21,
   "metadata": {},
   "outputs": [],
   "source": [
    "import requests\n",
    "import glob"
   ]
  },
  {
   "cell_type": "code",
   "execution_count": 19,
   "metadata": {},
   "outputs": [],
   "source": [
    "# Main configuration options\n",
    "SOLR_URL = 'http://meqpacscrllt01.uhbs.ch:8983/solr/'\n",
    "CORE_NAME = 'grouping'\n",
    "CSV_DATA = 'csv-data'"
   ]
  },
  {
   "cell_type": "markdown",
   "metadata": {},
   "source": [
    "## Clear core "
   ]
  },
  {
   "cell_type": "code",
   "execution_count": 17,
   "metadata": {},
   "outputs": [
    {
     "name": "stdout",
     "output_type": "stream",
     "text": [
      "http://meqpacscrllt01.uhbs.ch:8983/solr/grouping/update\n"
     ]
    },
    {
     "data": {
      "text/plain": [
       "200"
      ]
     },
     "execution_count": 17,
     "metadata": {},
     "output_type": "execute_result"
    }
   ],
   "source": [
    "url = SOLR_URL + CORE_NAME + '/update'\n",
    "data = {'commit': 'true', 'stream.body': '<delete><query>*:*</query></delete>'}\n",
    "\n",
    "r = requests.get(url, data)\n",
    "r.status_code"
   ]
  },
  {
   "cell_type": "markdown",
   "metadata": {},
   "source": [
    "## Import to Solr"
   ]
  },
  {
   "cell_type": "code",
   "execution_count": 24,
   "metadata": {},
   "outputs": [
    {
     "name": "stdout",
     "output_type": "stream",
     "text": [
      "../csv-data/pax2000ALLMODS.csv\n",
      "../csv-data/pax2001ALLMODS.csv\n",
      "../csv-data/pax2002ALLMODS.csv\n",
      "../csv-data/pax2003ALLMODS.csv\n",
      "../csv-data/pax2004ALLMODS.csv\n",
      "../csv-data/pax2005ALLMODS.csv\n",
      "../csv-data/pax2006ALLMODS.csv\n",
      "../csv-data/pax2007ALLMODS.csv\n",
      "../csv-data/pax2008ALLMODS.csv\n",
      "../csv-data/pax2009ALLMODS.csv\n",
      "../csv-data/pax2010ALLMODS.csv\n",
      "../csv-data/pax2011ALLMODS.csv\n",
      "../csv-data/pax2012ALLMODS.csv\n",
      "../csv-data/pax2013ALLMODS.csv\n",
      "../csv-data/pax2014ALLMODS.csv\n",
      "../csv-data/pax2015ALLMODS.csv\n",
      "../csv-data/pax2016ALLMODS.csv\n"
     ]
    }
   ],
   "source": [
    "for f in glob.glob('../csv-data/*.csv'):\n",
    "    print(f)"
   ]
  }
 ],
 "metadata": {
  "kernelspec": {
   "display_name": "Python [gl-env]",
   "language": "python",
   "name": "Python [gl-env]"
  },
  "language_info": {
   "codemirror_mode": {
    "name": "ipython",
    "version": 2
   },
   "file_extension": ".py",
   "mimetype": "text/x-python",
   "name": "python",
   "nbconvert_exporter": "python",
   "pygments_lexer": "ipython2",
   "version": "2.7.11"
  }
 },
 "nbformat": 4,
 "nbformat_minor": 1
}
