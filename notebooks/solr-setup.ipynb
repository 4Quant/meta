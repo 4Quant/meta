{
 "cells": [
  {
   "cell_type": "markdown",
   "metadata": {},
   "source": [
    "# Solr setup"
   ]
  },
  {
   "cell_type": "code",
   "execution_count": 21,
   "metadata": {},
   "outputs": [],
   "source": [
    "import requests\n",
    "import glob"
   ]
  },
  {
   "cell_type": "code",
   "execution_count": 57,
   "metadata": {},
   "outputs": [],
   "source": [
    "# Main configuration options\n",
    "SOLR_URL = 'http://meqpacscrllt01.uhbs.ch:8983/solr/'\n",
    "CORE_NAME = 'grouping'\n",
    "SOLR_CORE_UPDATE_URL = SOLR_URL + CORE_NAME + '/update'\n",
    "CSV_DATA = '../import/data/2015/*.csv'\n",
    "SCHEMA = '../import/schema/schema.json'"
   ]
  },
  {
   "cell_type": "markdown",
   "metadata": {},
   "source": [
    "## Clear core "
   ]
  },
  {
   "cell_type": "code",
   "execution_count": 17,
   "metadata": {},
   "outputs": [
    {
     "name": "stdout",
     "output_type": "stream",
     "text": [
      "http://meqpacscrllt01.uhbs.ch:8983/solr/grouping/update\n"
     ]
    },
    {
     "data": {
      "text/plain": [
       "200"
      ]
     },
     "execution_count": 17,
     "metadata": {},
     "output_type": "execute_result"
    }
   ],
   "source": [
    "data = {'commit': 'true', 'stream.body': '<delete><query>*:*</query></delete>'}\n",
    "\n",
    "r = requests.get(SOLR_CORE_UPDATE_URL, data)\n",
    "r.status_code"
   ]
  },
  {
   "cell_type": "markdown",
   "metadata": {},
   "source": [
    "## Import schema"
   ]
  },
  {
   "cell_type": "code",
   "execution_count": 30,
   "metadata": {},
   "outputs": [
    {
     "data": {
      "text/plain": [
       "200"
      ]
     },
     "execution_count": 30,
     "metadata": {},
     "output_type": "execute_result"
    }
   ],
   "source": [
    "url = SOLR_URL + CORE_NAME + '/schema'\n",
    "headers = {'Content-type': 'application/json'}\n",
    "\n",
    "files = {'file': open(SCHEMA, 'rb')}\n",
    "r = requests.post(url, headers=headers, files=files)\n",
    "r.status_code"
   ]
  },
  {
   "cell_type": "markdown",
   "metadata": {},
   "source": [
    "## Import to Solr"
   ]
  },
  {
   "cell_type": "code",
   "execution_count": 60,
   "metadata": {},
   "outputs": [
    {
     "name": "stdout",
     "output_type": "stream",
     "text": [
      "http://meqpacscrllt01.uhbs.ch:8983/solr/grouping/update/csv\n",
      "<?xml version=\"1.0\" encoding=\"UTF-8\"?>\n",
      "<response>\n",
      "<lst name=\"responseHeader\"><int name=\"status\">400</int><int name=\"QTime\">83</int></lst><lst name=\"error\"><lst name=\"metadata\"><str name=\"error-class\">org.apache.solr.common.SolrException</str><str name=\"root-error-class\">org.apache.solr.common.SolrException</str></lst><str name=\"msg\">CSVLoader: input=null, line=133,expected 1 values but got 3\n",
      "\tvalues={'24187705;;NEARLINE;Universitätsspital','Radiologie','Basel;CR;19970521;USB0003420291;KOVCALIJA^MARIO-LUCA;M;SERIES;Notfall-Bettenstation ME;AE_ARCH2_4PR;20150101;V070d Hand R ap;1.3.12.2.1107.5.4.4.1092.30000015010103101276500000009;1;064121;ISO_IR 100;20150101;Hand rechts;24187705;1.2.840.113619.6.95.31.0.3.4.1.4285.13.24187705',}</str><int name=\"code\">400</int></lst>\n",
      "</response>\n",
      "\n",
      "('../import/data/2015/data-2015-01.csv', 400)\n",
      "http://meqpacscrllt01.uhbs.ch:8983/solr/grouping/update/csv\n",
      "<?xml version=\"1.0\" encoding=\"UTF-8\"?>\n",
      "<response>\n",
      "<lst name=\"responseHeader\"><int name=\"status\">400</int><int name=\"QTime\">34</int></lst><lst name=\"error\"><lst name=\"metadata\"><str name=\"error-class\">org.apache.solr.common.SolrException</str><str name=\"root-error-class\">org.apache.solr.common.SolrException</str></lst><str name=\"msg\">CSVLoader: input=null, line=66,expected 1 values but got 3\n",
      "\tvalues={'24208332;;NEARLINE;Universitätsspital','Radiologie','Basel;CR;19860912;USB0003307357;ALTHERR^SVEN;M;SERIES;Notfall-Bettenstation ME;AE_ARCH2_4PR;20150201;F109i  Fuss R ap;1.3.12.2.1107.5.4.4.1092.30000015020103335828100000000;1;043722;ISO_IR 100;20150201;Fuss rechts;24208332;1.2.840.113619.6.95.31.0.3.4.1.4285.13.24208332',}</str><int name=\"code\">400</int></lst>\n",
      "</response>\n",
      "\n",
      "('../import/data/2015/data-2015-02.csv', 400)\n",
      "http://meqpacscrllt01.uhbs.ch:8983/solr/grouping/update/csv\n",
      "<?xml version=\"1.0\" encoding=\"UTF-8\"?>\n",
      "<response>\n",
      "<lst name=\"responseHeader\"><int name=\"status\">400</int><int name=\"QTime\">62</int></lst><lst name=\"error\"><lst name=\"metadata\"><str name=\"error-class\">org.apache.solr.common.SolrException</str><str name=\"root-error-class\">org.apache.solr.common.SolrException</str></lst><str name=\"msg\">CSVLoader: input=null, line=12,expected 1 values but got 2\n",
      "\tvalues={'24231450;FOOT;NEARLINE;Kinderspital UKBB',' Basel;DX;20031022;K0000212244;EICHER^MAYA;F;SERIES;Notfall Chirurgisch UKBB;AE_ARCH2_4PR;20150307;;1.2.392.200046.100.14.45853329827002258979220635026166171600;1;113054;;20150307;Zeh links;24231450;1.2.840.113619.6.95.31.0.3.4.1.4285.13.24231450',}</str><int name=\"code\">400</int></lst>\n",
      "</response>\n",
      "\n",
      "('../import/data/2015/data-2015-03.csv', 400)\n",
      "http://meqpacscrllt01.uhbs.ch:8983/solr/grouping/update/csv\n",
      "<?xml version=\"1.0\" encoding=\"UTF-8\"?>\n",
      "<response>\n",
      "<lst name=\"responseHeader\"><int name=\"status\">400</int><int name=\"QTime\">100</int></lst><lst name=\"error\"><lst name=\"metadata\"><str name=\"error-class\">org.apache.solr.common.SolrException</str><str name=\"root-error-class\">org.apache.solr.common.SolrException</str></lst><str name=\"msg\">CSVLoader: input=null, line=315,expected 1 values but got 2\n",
      "\tvalues={'IK-6576;;NEARLINE;Universitätsspital Basel',' Rö.33;SR;19291010;USB0003521425;BENOIT^BETHLI;F;SERIES;;AE_ARCH2_4PR;20150401;Exam Protocol SR;1.3.12.2.1107.5.4.5.154401.30000015040104293337500000009;990;072552;ISO_IR 100;20150401;kardiologische Angiographie;1;1.3.12.2.1107.5.4.5.154401.30000015040104293578100000004',}</str><int name=\"code\">400</int></lst>\n",
      "</response>\n",
      "\n",
      "('../import/data/2015/data-2015-04.csv', 400)\n",
      "http://meqpacscrllt01.uhbs.ch:8983/solr/grouping/update/csv\n",
      "<?xml version=\"1.0\" encoding=\"UTF-8\"?>\n",
      "<response>\n",
      "<lst name=\"responseHeader\"><int name=\"status\">400</int><int name=\"QTime\">16</int></lst><lst name=\"error\"><lst name=\"metadata\"><str name=\"error-class\">org.apache.solr.common.SolrException</str><str name=\"root-error-class\">org.apache.solr.common.SolrException</str></lst><str name=\"msg\">CSVLoader: input=null, line=17,expected 1 values but got 3\n",
      "\tvalues={'24275850;;NEARLINE;Universitätsspital','Radiologie','Basel;CR;19510530;USB0002375579;KUÇI^BINAK;M;SERIES;Notfall-Bettenstation ME;AE_ARCH2_4PR;20150514;W019c HWS ap;1.3.12.2.1107.5.4.4.1092.30000015051400443962500000025;1;202920;ISO_IR 100;20150514;HWS ap lat und Dens;24275850;1.2.840.113619.6.95.31.0.3.4.1.4285.13.24275850',}</str><int name=\"code\">400</int></lst>\n",
      "</response>\n",
      "\n",
      "('../import/data/2015/data-2015-05.csv', 400)\n",
      "http://meqpacscrllt01.uhbs.ch:8983/solr/grouping/update/csv\n",
      "<?xml version=\"1.0\" encoding=\"UTF-8\"?>\n",
      "<response>\n",
      "<lst name=\"responseHeader\"><int name=\"status\">400</int><int name=\"QTime\">24</int></lst><lst name=\"error\"><lst name=\"metadata\"><str name=\"error-class\">org.apache.solr.common.SolrException</str><str name=\"root-error-class\">org.apache.solr.common.SolrException</str></lst><str name=\"msg\">CSVLoader: input=null, line=70,expected 1 values but got 2\n",
      "\tvalues={'24274405;CHEST;NEARLINE;RADIOLOGIE UNI BASEL;CT;19610324;USB0002130932;HÜRZELER HERZOG^KATHRIN;F;SERIES;Gonon',' Michael;AE_ARCH2_4PR;20150601;Fl_Thorax nativ  5.0  coronar Weichteil;1.3.12.2.1107.5.1.4.73395.30000015060106375583800000405;5;073910;ISO_IR 100;20150601;CT Thorax;24274405;1.2.840.113619.6.95.31.0.3.4.1.4285.13.24274405',}</str><int name=\"code\">400</int></lst>\n",
      "</response>\n",
      "\n",
      "('../import/data/2015/data-2015-06.csv', 400)\n",
      "http://meqpacscrllt01.uhbs.ch:8983/solr/grouping/update/csv\n",
      "<?xml version=\"1.0\" encoding=\"UTF-8\"?>\n",
      "<response>\n",
      "<lst name=\"responseHeader\"><int name=\"status\">400</int><int name=\"QTime\">49</int></lst><lst name=\"error\"><lst name=\"metadata\"><str name=\"error-class\">org.apache.solr.common.SolrException</str><str name=\"root-error-class\">org.apache.solr.common.SolrException</str></lst><str name=\"msg\">CSVLoader: input=null, line=153,expected 1 values but got 2\n",
      "\tvalues={'24297593;;NEARLINE;Universitaetsspital;MR;19350205;USB0003220774;THIAM-MAIER^DORA;F;SERIES;Werren',' Ann;AE_ARCH2_4PR;20150701;loc sag cor;1.3.12.2.1107.5.2.31.30011.2015070107025177921900061.0.0.0;2;070259;;20150701;MRI Sakrum -ISG;24297593;1.2.840.113619.6.95.31.0.3.4.1.4285.13.24297593',}</str><int name=\"code\">400</int></lst>\n",
      "</response>\n",
      "\n",
      "('../import/data/2015/data-2015-07.csv', 400)\n",
      "http://meqpacscrllt01.uhbs.ch:8983/solr/grouping/update/csv\n",
      "<?xml version=\"1.0\" encoding=\"UTF-8\"?>\n",
      "<response>\n",
      "<lst name=\"responseHeader\"><int name=\"status\">400</int><int name=\"QTime\">44</int></lst><lst name=\"error\"><lst name=\"metadata\"><str name=\"error-class\">org.apache.solr.common.SolrException</str><str name=\"root-error-class\">org.apache.solr.common.SolrException</str></lst><str name=\"msg\">CSVLoader: input=null, line=123,expected 1 values but got 3\n",
      "\tvalues={'24326300;;NEARLINE;Universitätsspital','Radiologie','Basel;CR;19860505;USB0002225145;HUG^DAVID;M;SERIES;Notfall-Bettenstation ME;AE_ARCH2_4PR;20150801;W050b Schulter L Outlet;1.3.12.2.1107.5.4.4.1092.30000015073105315696800000200;4;063155;ISO_IR 100;20150801;Schultergelenk links;24326300;1.2.840.113619.6.95.31.0.3.4.1.4285.13.24326300',}</str><int name=\"code\">400</int></lst>\n",
      "</response>\n",
      "\n",
      "('../import/data/2015/data-2015-08.csv', 400)\n",
      "http://meqpacscrllt01.uhbs.ch:8983/solr/grouping/update/csv\n",
      "<?xml version=\"1.0\" encoding=\"UTF-8\"?>\n",
      "<response>\n",
      "<lst name=\"responseHeader\"><int name=\"status\">400</int><int name=\"QTime\">25</int></lst><lst name=\"error\"><lst name=\"metadata\"><str name=\"error-class\">org.apache.solr.common.SolrException</str><str name=\"root-error-class\">org.apache.solr.common.SolrException</str></lst><str name=\"msg\">CSVLoader: input=null, line=54,expected 1 values but got 2\n",
      "\tvalues={'24367761;;NEARLINE;Notfall',' Universitaetsspital Basel;US;19781120;USB0002369228;LINDEMER^JOE MARIO;M;SERIES;Notfall-Bettenstation ME;AE_ARCH2_4PR;20150922;;1.2.392.200036.9123.100.14.15.1591950400150922180720113581828124;1;180947;;20150922;Sonografie Gelenk obere Extremitaet;20150922180719;1.2.392.200036.9123.100.14.15.1591950400150922180720113581821577',}</str><int name=\"code\">400</int></lst>\n",
      "</response>\n",
      "\n",
      "('../import/data/2015/data-2015-09.csv', 400)\n",
      "http://meqpacscrllt01.uhbs.ch:8983/solr/grouping/update/csv\n",
      "<?xml version=\"1.0\" encoding=\"UTF-8\"?>\n",
      "<response>\n",
      "<lst name=\"responseHeader\"><int name=\"status\">400</int><int name=\"QTime\">105</int></lst><lst name=\"error\"><lst name=\"metadata\"><str name=\"error-class\">org.apache.solr.common.SolrException</str><str name=\"root-error-class\">org.apache.solr.common.SolrException</str></lst><str name=\"msg\">CSVLoader: input=null, line=219,expected 1 values but got 3\n",
      "\tvalues={'24373079;;NEARLINE;Universitätsspital','Radiologie','Basel;CR;19641204;USB0003557708;GRECO^FAUSTO;M;SERIES;Notfall-Bettenstation ME;AE_ARCH2_4PR;20151001;W026c LWS pa;1.3.12.2.1107.5.4.4.1092.30000015100102563412500000007;1;074619;ISO_IR 100;20151001;Lendenwirbelsaeule ap und lat;24373079;1.2.840.113619.6.95.31.0.3.4.1.4285.13.24373079',}</str><int name=\"code\">400</int></lst>\n",
      "</response>\n",
      "\n",
      "('../import/data/2015/data-2015-10.csv', 400)\n",
      "http://meqpacscrllt01.uhbs.ch:8983/solr/grouping/update/csv\n",
      "<?xml version=\"1.0\" encoding=\"UTF-8\"?>\n",
      "<response>\n",
      "<lst name=\"responseHeader\"><int name=\"status\">400</int><int name=\"QTime\">36</int></lst><lst name=\"error\"><lst name=\"metadata\"><str name=\"error-class\">org.apache.solr.common.SolrException</str><str name=\"root-error-class\">org.apache.solr.common.SolrException</str></lst><str name=\"msg\">CSVLoader: input=null, line=54,expected 1 values but got 3\n",
      "\tvalues={'24392557;;NEARLINE;Universitätsspital','Radiologie','Basel;CR;19981214;USB0003330081;FUHRER^FRÉDÉRIC;M;SERIES;Notfall-Bettenstation ME;AE_ARCH2_4PR;20151101;V070d Hand R ap;1.3.12.2.1107.5.4.4.1092.30000015103112215660900000014;1;002326;ISO_IR 100;20151101;Hand rechts;24392557;1.2.840.113619.6.95.31.0.3.4.1.4285.13.24392557',}</str><int name=\"code\">400</int></lst>\n",
      "</response>\n",
      "\n",
      "('../import/data/2015/data-2015-11.csv', 400)\n",
      "http://meqpacscrllt01.uhbs.ch:8983/solr/grouping/update/csv\n",
      "<?xml version=\"1.0\" encoding=\"UTF-8\"?>\n",
      "<response>\n",
      "<lst name=\"responseHeader\"><int name=\"status\">400</int><int name=\"QTime\">51</int></lst><lst name=\"error\"><lst name=\"metadata\"><str name=\"error-class\">org.apache.solr.common.SolrException</str><str name=\"root-error-class\">org.apache.solr.common.SolrException</str></lst><str name=\"msg\">CSVLoader: input=null, line=20,expected 1 values but got 3\n",
      "\tvalues={'24416000;;NEARLINE;Universitätsspital','Radiologie','Basel;CR;19380407;USB0002174020;PORTNER^HANS-RUDOLF;M;SERIES;Chirurgie 4 Ost CH;AE_ARCH2_4PR;20151205;W033a Thorax pa;1.3.12.2.1107.5.4.4.1092.30000015120507322062500000027;1;173825;ISO_IR 100;20151205;Thorax stehend;24416000;1.2.840.113619.6.95.31.0.3.4.1.4285.13.24416000',}</str><int name=\"code\">400</int></lst>\n",
      "</response>\n",
      "\n",
      "('../import/data/2015/data-2015-12.csv', 400)\n"
     ]
    }
   ],
   "source": [
    "payload = {'commit': 'true', 'separator': ';'}\n",
    "headers = {'Content-type': 'application/csv;charset=UTF-8'}\n",
    "\n",
    "def post_file(file_name):\n",
    "    files = {'file': open(f, 'rb')}  \n",
    "    print(SOLR_CORE_UPDATE_URL + '/csv')\n",
    "    r = requests.post(SOLR_CORE_UPDATE_URL + '/csv', data=payload, headers=headers, files=files)\n",
    "    print(r.text)\n",
    "    print(file_name, r.status_code)\n",
    "\n",
    "for f in glob.glob(CSV_DATA):\n",
    "    post_file(f)"
   ]
  }
 ],
 "metadata": {
  "kernelspec": {
   "display_name": "Python [gl-env]",
   "language": "python",
   "name": "Python [gl-env]"
  },
  "language_info": {
   "codemirror_mode": {
    "name": "ipython",
    "version": 2
   },
   "file_extension": ".py",
   "mimetype": "text/x-python",
   "name": "python",
   "nbconvert_exporter": "python",
   "pygments_lexer": "ipython2",
   "version": "2.7.11"
  }
 },
 "nbformat": 4,
 "nbformat_minor": 1
}
